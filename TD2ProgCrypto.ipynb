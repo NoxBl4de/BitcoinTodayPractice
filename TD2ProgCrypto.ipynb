{
  "nbformat": 4,
  "nbformat_minor": 0,
  "metadata": {
    "colab": {
      "name": "TD2ProgCrypto.ipynb",
      "provenance": [],
      "collapsed_sections": [],
      "toc_visible": true
    },
    "kernelspec": {
      "name": "python3",
      "display_name": "Python 3"
    }
  },
  "cells": [
    {
      "cell_type": "markdown",
      "metadata": {
        "id": "qFMBiE7OcTZo"
      },
      "source": [
        "Créer un entier aléatoire pouvant servir\r\n",
        "de seed à un wallet de façon sécurisée"
      ]
    },
    {
      "cell_type": "code",
      "metadata": {
        "id": "MV_Irc8whfOz"
      },
      "source": [
        "import secrets\r\n",
        "rand_numb=secrets.randbits(128)"
      ],
      "execution_count": null,
      "outputs": []
    },
    {
      "cell_type": "code",
      "metadata": {
        "colab": {
          "base_uri": "https://localhost:8080/"
        },
        "id": "CPYtxXqEhima",
        "outputId": "fdee6841-5b16-40d4-f18a-73d36287b0f6"
      },
      "source": [
        "rand_numb"
      ],
      "execution_count": null,
      "outputs": [
        {
          "output_type": "execute_result",
          "data": {
            "text/plain": [
              "26015536743426440181954343574826827649"
            ]
          },
          "metadata": {
            "tags": []
          },
          "execution_count": 98
        }
      ]
    },
    {
      "cell_type": "code",
      "metadata": {
        "colab": {
          "base_uri": "https://localhost:8080/",
          "height": 35
        },
        "id": "cppui5D2nSni",
        "outputId": "b891dd8e-c26f-43ee-a716-9828843d32ff"
      },
      "source": [
        "bin(rand_numb)"
      ],
      "execution_count": null,
      "outputs": [
        {
          "output_type": "execute_result",
          "data": {
            "application/vnd.google.colaboratory.intrinsic+json": {
              "type": "string"
            },
            "text/plain": [
              "'0b10011100100100110100011111101110101111111101101001000000101000111100111011100001011110110100000001001111011101011111110000001'"
            ]
          },
          "metadata": {
            "tags": []
          },
          "execution_count": 99
        }
      ]
    },
    {
      "cell_type": "code",
      "metadata": {
        "colab": {
          "base_uri": "https://localhost:8080/",
          "height": 35
        },
        "id": "cIukTwOBiAZ_",
        "outputId": "a86c52be-a224-4743-847f-54b13c4e2a3f"
      },
      "source": [
        "hex_rand_num = hex(rand_numb)\r\n",
        "private_key = hex_rand_num[2:]\r\n",
        "private_key"
      ],
      "execution_count": null,
      "outputs": [
        {
          "output_type": "execute_result",
          "data": {
            "application/vnd.google.colaboratory.intrinsic+json": {
              "type": "string"
            },
            "text/plain": [
              "'139268fdd7fb481479dc2f6809eebf81'"
            ]
          },
          "metadata": {
            "tags": []
          },
          "execution_count": 100
        }
      ]
    },
    {
      "cell_type": "code",
      "metadata": {
        "colab": {
          "base_uri": "https://localhost:8080/"
        },
        "id": "WTi0MpaBhkn5",
        "outputId": "717467c1-8bf1-43d3-ecd0-4b0a05ad68de"
      },
      "source": [
        "import hashlib\r\n",
        "m = hashlib.sha256()\r\n",
        "m.update(bytes.fromhex(private_key))\r\n",
        "res = m.digest()\r\n",
        "res"
      ],
      "execution_count": null,
      "outputs": [
        {
          "output_type": "execute_result",
          "data": {
            "text/plain": [
              "b'\\xb3B\\xd7\\xa4\\xbb!\\xfb?\\xc8\\x8f\\x7f*2\\xe7\\x7f\\x1dv\\xf6_\\xb0\\xcdd\\xa2B.\\x11\\x80I\\xcd\\xe6\\xd9h'"
            ]
          },
          "metadata": {
            "tags": []
          },
          "execution_count": 101
        }
      ]
    },
    {
      "cell_type": "code",
      "metadata": {
        "colab": {
          "base_uri": "https://localhost:8080/",
          "height": 35
        },
        "id": "0CsHfVY9nkgt",
        "outputId": "b58d11ab-234c-4b24-a0f5-74f244c99291"
      },
      "source": [
        "hexRes = res.hex()\r\n",
        "hexRes"
      ],
      "execution_count": null,
      "outputs": [
        {
          "output_type": "execute_result",
          "data": {
            "application/vnd.google.colaboratory.intrinsic+json": {
              "type": "string"
            },
            "text/plain": [
              "'b342d7a4bb21fb3fc88f7f2a32e77f1d76f65fb0cd64a2422e118049cde6d968'"
            ]
          },
          "metadata": {
            "tags": []
          },
          "execution_count": 102
        }
      ]
    },
    {
      "cell_type": "code",
      "metadata": {
        "colab": {
          "base_uri": "https://localhost:8080/",
          "height": 35
        },
        "id": "yUFTKsWcof9M",
        "outputId": "d3fc0504-dde1-434a-e917-c97352a4c5b3"
      },
      "source": [
        "checksum = hexRes[0]\r\n",
        "checksum"
      ],
      "execution_count": null,
      "outputs": [
        {
          "output_type": "execute_result",
          "data": {
            "application/vnd.google.colaboratory.intrinsic+json": {
              "type": "string"
            },
            "text/plain": [
              "'b'"
            ]
          },
          "metadata": {
            "tags": []
          },
          "execution_count": 103
        }
      ]
    },
    {
      "cell_type": "code",
      "metadata": {
        "colab": {
          "base_uri": "https://localhost:8080/",
          "height": 35
        },
        "id": "_V7rcQhYo5Gw",
        "outputId": "7aeb67bc-b84c-4c48-edd2-58de010b908a"
      },
      "source": [
        "full_private_key = str(private_key) + checksum\r\n",
        "full_private_key"
      ],
      "execution_count": null,
      "outputs": [
        {
          "output_type": "execute_result",
          "data": {
            "application/vnd.google.colaboratory.intrinsic+json": {
              "type": "string"
            },
            "text/plain": [
              "'139268fdd7fb481479dc2f6809eebf81b'"
            ]
          },
          "metadata": {
            "tags": []
          },
          "execution_count": 104
        }
      ]
    },
    {
      "cell_type": "markdown",
      "metadata": {
        "id": "jzMKLEvpcjZJ"
      },
      "source": [
        "Représenter cette seed en binaire et le\r\n",
        "découper en lot de 11 bits"
      ]
    },
    {
      "cell_type": "code",
      "metadata": {
        "colab": {
          "base_uri": "https://localhost:8080/",
          "height": 35
        },
        "id": "SGEwda-opouo",
        "outputId": "af77e552-4433-4bb8-a039-175255653d52"
      },
      "source": [
        "binKey = bin(int(full_private_key, 16))[2:].zfill(132)\r\n",
        "binKey"
      ],
      "execution_count": null,
      "outputs": [
        {
          "output_type": "execute_result",
          "data": {
            "application/vnd.google.colaboratory.intrinsic+json": {
              "type": "string"
            },
            "text/plain": [
              "'000100111001001001101000111111011101011111111011010010000001010001111001110111000010111101101000000010011110111010111111100000011011'"
            ]
          },
          "metadata": {
            "tags": []
          },
          "execution_count": 105
        }
      ]
    },
    {
      "cell_type": "code",
      "metadata": {
        "colab": {
          "base_uri": "https://localhost:8080/"
        },
        "id": "-TZp6aApqXy_",
        "outputId": "1f94658c-ff44-410d-a430-44fb90232f8c"
      },
      "source": [
        "def splitBinKey(binKey):\r\n",
        "  tab = []\r\n",
        "  start = 0\r\n",
        "  stop = 11\r\n",
        "\r\n",
        "  for i in range(0,12):\r\n",
        "    tab.append(binKey[start:stop])\r\n",
        "    start += 11\r\n",
        "    stop += 11\r\n",
        "\r\n",
        "  return tab\r\n",
        "\r\n",
        "\r\n",
        "def splitBinKey2(new_key):\r\n",
        "  subList = [new_key[n:n+11] for n in range(0, len(new_key), 11)]\r\n",
        "\r\n",
        "  return subList\r\n",
        "\r\n",
        "\r\n",
        "splitKey = splitBinKey(binKey)\r\n",
        "splitKey"
      ],
      "execution_count": null,
      "outputs": [
        {
          "output_type": "execute_result",
          "data": {
            "text/plain": [
              "['00010011100',\n",
              " '10010011010',\n",
              " '00111111011',\n",
              " '10101111111',\n",
              " '10110100100',\n",
              " '00001010001',\n",
              " '11100111011',\n",
              " '10000101111',\n",
              " '01101000000',\n",
              " '01001111011',\n",
              " '10101111111',\n",
              " '00000011011']"
            ]
          },
          "metadata": {
            "tags": []
          },
          "execution_count": 106
        }
      ]
    },
    {
      "cell_type": "markdown",
      "metadata": {
        "id": "cIgUxrumcoeV"
      },
      "source": [
        "Attribuer à chaque lot un mot selon la\r\n",
        "liste BIP 39 et afficher la seed en\r\n",
        "mnémonique"
      ]
    },
    {
      "cell_type": "code",
      "metadata": {
        "colab": {
          "base_uri": "https://localhost:8080/"
        },
        "id": "MUpRB3oyuPdg",
        "outputId": "11fe4d41-b45d-4a75-9a6c-ef285820084f"
      },
      "source": [
        "def convertToDecimal(binTab):\r\n",
        "  intTab = []\r\n",
        "\r\n",
        "  for i in range(0, len(binTab)):\r\n",
        "    b = splitKey[i] # binary\r\n",
        "    h = f'{int(b, 2):X}' # convert to hex\r\n",
        "    i = int(h, 16) # convert to int\r\n",
        "    intTab.append(i) # add to the table\r\n",
        "\r\n",
        "  return intTab\r\n",
        "\r\n",
        "intKey = convertToDecimal(splitKey)\r\n",
        "intKey"
      ],
      "execution_count": null,
      "outputs": [
        {
          "output_type": "execute_result",
          "data": {
            "text/plain": [
              "[156, 1178, 507, 1407, 1444, 81, 1851, 1071, 832, 635, 1407, 27]"
            ]
          },
          "metadata": {
            "tags": []
          },
          "execution_count": 107
        }
      ]
    },
    {
      "cell_type": "code",
      "metadata": {
        "id": "Cy7xpeWnyOnN"
      },
      "source": [
        "with open('seedWords.txt',\"r\",encoding=\"utf-8\") as f:\r\n",
        "  word_list = f.readlines()\r\n",
        "# you may also want to remove whitespace characters like `\\n` at the end of each line\r\n",
        "  word_list = [x.strip() for x in word_list] "
      ],
      "execution_count": null,
      "outputs": []
    },
    {
      "cell_type": "code",
      "metadata": {
        "colab": {
          "base_uri": "https://localhost:8080/"
        },
        "id": "mZk2q8Z00KhT",
        "outputId": "e0dfa408-7add-4e56-f0bf-1e611736bd38"
      },
      "source": [
        "len(word_list)"
      ],
      "execution_count": null,
      "outputs": [
        {
          "output_type": "execute_result",
          "data": {
            "text/plain": [
              "2048"
            ]
          },
          "metadata": {
            "tags": []
          },
          "execution_count": 109
        }
      ]
    },
    {
      "cell_type": "code",
      "metadata": {
        "colab": {
          "base_uri": "https://localhost:8080/"
        },
        "id": "BAjqIqtr0vaP",
        "outputId": "b38be259-dbb5-440a-d0dd-61bb36d8cd96"
      },
      "source": [
        "mnemonic = []\r\n",
        "for itm in intKey:\r\n",
        "  mnemonic.append(word_list[itm])\r\n",
        "\r\n",
        "mnemonic"
      ],
      "execution_count": null,
      "outputs": [
        {
          "output_type": "execute_result",
          "data": {
            "text/plain": [
              "['asticot',\n",
              " 'machine',\n",
              " 'décembre',\n",
              " 'oxyde',\n",
              " 'payer',\n",
              " 'alliage',\n",
              " 'tamiser',\n",
              " 'jaillir',\n",
              " 'fissure',\n",
              " 'égarer',\n",
              " 'oxyde',\n",
              " 'acerbe']"
            ]
          },
          "metadata": {
            "tags": []
          },
          "execution_count": 110
        }
      ]
    },
    {
      "cell_type": "code",
      "metadata": {
        "colab": {
          "base_uri": "https://localhost:8080/",
          "height": 35
        },
        "id": "IdrxKT-O4eUy",
        "outputId": "88e4dc11-1899-4b6c-bf37-12ea3307fe8f"
      },
      "source": [
        "seedPhrase = ''\r\n",
        "\r\n",
        "for elem in mnemonic:\r\n",
        "  seedPhrase += elem + ' '\r\n",
        "\r\n",
        "seedPhrase = seedPhrase[:-1] # suppression de l'espace en trop\r\n",
        "\r\n",
        "seedPhrase"
      ],
      "execution_count": null,
      "outputs": [
        {
          "output_type": "execute_result",
          "data": {
            "application/vnd.google.colaboratory.intrinsic+json": {
              "type": "string"
            },
            "text/plain": [
              "'asticot machine décembre oxyde payer alliage tamiser jaillir fissure égarer oxyde acerbe'"
            ]
          },
          "metadata": {
            "tags": []
          },
          "execution_count": 111
        }
      ]
    },
    {
      "cell_type": "markdown",
      "metadata": {
        "id": "otDe1UKLctza"
      },
      "source": [
        "Permettre l’import d’une seed\r\n",
        "mnémonique"
      ]
    },
    {
      "cell_type": "code",
      "metadata": {
        "colab": {
          "base_uri": "https://localhost:8080/"
        },
        "id": "4pl1l4ch1Jqb",
        "outputId": "7e5994b0-7c74-48a5-fa86-365184b75c42"
      },
      "source": [
        "# Executez la cellule pour importer votre seed\r\n",
        "\r\n",
        "# word_list : liste des 2048 mots\r\n",
        "def mnemonique_to_dec(word_list):\r\n",
        "  imported_seed = input('Collez votre seed mnémonique ici: ')\r\n",
        "  imported_seed = imported_seed.split(' ')\r\n",
        "  decimal_list=[]\r\n",
        "  for itm in imported_seed:\r\n",
        "    for i in range(0,len(word_list)):\r\n",
        "      if itm == word_list[i]:\r\n",
        "        decimal_list.append(i)\r\n",
        "  return decimal_list\r\n",
        "\r\n",
        "decList = mnemonique_to_dec(word_list)\r\n",
        "\r\n",
        "print(decList)\r\n",
        "\r\n",
        "def decToBinList(dec_list):\r\n",
        "  binL = []\r\n",
        "\r\n",
        "  for elem in dec_list:\r\n",
        "    binL.append(bin(int(elem))[2:])\r\n",
        "\r\n",
        "  return binL\r\n",
        "\r\n",
        "binList = decToBinList(decList)\r\n",
        "\r\n",
        "print(binList)\r\n",
        "\r\n",
        "def completeBin(bin_list):\r\n",
        "  new_list=[]\r\n",
        "  for itm in bin_list:\r\n",
        "    res =''\r\n",
        "    i=11-len(itm)\r\n",
        "    for j in range(0,i):\r\n",
        "      res+='0'\r\n",
        "    res+=itm\r\n",
        "    new_list.append(res) \r\n",
        "  return new_list\r\n",
        "\r\n",
        "complete_binList = completeBin(binList)\r\n",
        "\r\n",
        "print(complete_binList)"
      ],
      "execution_count": null,
      "outputs": [
        {
          "output_type": "stream",
          "text": [
            "Collez votre seed mnémonique ici: asticot machine décembre oxyde payer alliage tamiser jaillir fissure égarer oxyde acerbe\n",
            "[156, 1178, 507, 1407, 1444, 81, 1851, 1071, 832, 635, 1407, 27]\n",
            "['10011100', '10010011010', '111111011', '10101111111', '10110100100', '1010001', '11100111011', '10000101111', '1101000000', '1001111011', '10101111111', '11011']\n",
            "['00010011100', '10010011010', '00111111011', '10101111111', '10110100100', '00001010001', '11100111011', '10000101111', '01101000000', '01001111011', '10101111111', '00000011011']\n"
          ],
          "name": "stdout"
        }
      ]
    },
    {
      "cell_type": "markdown",
      "metadata": {
        "id": "eyDdKCY8RBHB"
      },
      "source": [
        "Extraction private key et chain code"
      ]
    },
    {
      "cell_type": "code",
      "metadata": {
        "colab": {
          "base_uri": "https://localhost:8080/",
          "height": 35
        },
        "id": "92sQGKm9OayM",
        "outputId": "74288f10-570e-4e71-d881-8bd65cea0701"
      },
      "source": [
        "mnemonic = seedPhrase\r\n",
        "salt = \"mnemonic\"\r\n",
        "iterations = 2048\r\n",
        "keyLength = 64\r\n",
        "\r\n",
        "seed = hashlib.pbkdf2_hmac('sha512', mnemonic.encode(), salt.encode(), iterations, keyLength)\r\n",
        "\r\n",
        "hexSeed = seed.hex()\r\n",
        "hexSeed"
      ],
      "execution_count": null,
      "outputs": [
        {
          "output_type": "execute_result",
          "data": {
            "application/vnd.google.colaboratory.intrinsic+json": {
              "type": "string"
            },
            "text/plain": [
              "'659490230bc1be3d7a6ea0dc865b0af96ebaefca9b9901a669be425398c1f754ab82c657d6f158f08f8dcdf79f39002d6632c63d3d7f49d28b2617ae10f07610'"
            ]
          },
          "metadata": {
            "tags": []
          },
          "execution_count": 113
        }
      ]
    },
    {
      "cell_type": "code",
      "metadata": {
        "colab": {
          "base_uri": "https://localhost:8080/"
        },
        "id": "ZBtn2v0MS-oZ",
        "outputId": "9a5e175a-5f3a-4692-b25e-8bcfbea5c6e3"
      },
      "source": [
        "master_privateKey = hexSeed[:keyLength]\r\n",
        "chainCode = hexSeed[keyLength:]\r\n",
        "\r\n",
        "print(master_privateKey)\r\n",
        "print(chainCode)"
      ],
      "execution_count": null,
      "outputs": [
        {
          "output_type": "stream",
          "text": [
            "659490230bc1be3d7a6ea0dc865b0af96ebaefca9b9901a669be425398c1f754\n",
            "ab82c657d6f158f08f8dcdf79f39002d6632c63d3d7f49d28b2617ae10f07610\n"
          ],
          "name": "stdout"
        }
      ]
    },
    {
      "cell_type": "markdown",
      "metadata": {
        "id": "yKQa3y0HT9Y5"
      },
      "source": [
        "Extraction de la master public key\r\n"
      ]
    },
    {
      "cell_type": "code",
      "metadata": {
        "colab": {
          "base_uri": "https://localhost:8080/"
        },
        "id": "ZD191fWRbs9g",
        "outputId": "abb69324-e511-481f-c5bb-6b3f139993ae"
      },
      "source": [
        "pip install ecdsa"
      ],
      "execution_count": null,
      "outputs": [
        {
          "output_type": "stream",
          "text": [
            "Requirement already satisfied: ecdsa in /usr/local/lib/python3.6/dist-packages (0.16.1)\n",
            "Requirement already satisfied: six>=1.9.0 in /usr/local/lib/python3.6/dist-packages (from ecdsa) (1.15.0)\n"
          ],
          "name": "stdout"
        }
      ]
    },
    {
      "cell_type": "code",
      "metadata": {
        "id": "c4VT4mp7T8b5"
      },
      "source": [
        "import ecdsa.util"
      ],
      "execution_count": null,
      "outputs": []
    },
    {
      "cell_type": "code",
      "metadata": {
        "id": "IapouPih4gMw"
      },
      "source": [
        "def get_point_pubkey(point):\r\n",
        " if point.y() & 1:\r\n",
        "  key = '03' + '%064x' % point.x()\r\n",
        " else:\r\n",
        "  key = '02' + '%064x' % point.x()\r\n",
        " return key"
      ],
      "execution_count": null,
      "outputs": []
    },
    {
      "cell_type": "code",
      "metadata": {
        "id": "w6Ag-CgkuKMN"
      },
      "source": [
        "def getPublicKey(masterPrivateKey):\r\n",
        "  _p = 0xFFFFFFFFFFFFFFFFFFFFFFFFFFFFFFFFFFFFFFFFFFFFFFFFFFFFFFFEFFFFFC2F\r\n",
        "  _r = 0xFFFFFFFFFFFFFFFFFFFFFFFFFFFFFFFEBAAEDCE6AF48A03BBFD25E8CD0364141\r\n",
        "  _b = 0x0000000000000000000000000000000000000000000000000000000000000007\r\n",
        "  _a = 0x0000000000000000000000000000000000000000000000000000000000000000\r\n",
        "  _Gx = 0x79BE667EF9DCBBAC55A06295CE870B07029BFCDB2DCE28D959F2815B16F81798\r\n",
        "  _Gy = 0x483ada7726a3c4655da4fbfc0e1108a8fd17b448a68554199c47d08ffb10d4b8\r\n",
        "\r\n",
        "  curve_secp256k1 = ecdsa.ellipticcurve.CurveFp(_p, _a, _b)\r\n",
        "  generator = ecdsa.ellipticcurve.Point(curve_secp256k1, _Gx, _Gy, _r)\r\n",
        "  point = generator * int(masterPrivateKey, 16)\r\n",
        "  \r\n",
        "  return get_point_pubkey(point)"
      ],
      "execution_count": null,
      "outputs": []
    },
    {
      "cell_type": "code",
      "metadata": {
        "colab": {
          "base_uri": "https://localhost:8080/",
          "height": 35
        },
        "id": "Hqcv4GPp1uc1",
        "outputId": "284e30ef-ef3a-4ae9-ffe4-7e50f4a06423"
      },
      "source": [
        "master_publicKey = getPublicKey(master_privateKey)\r\n",
        "master_publicKey"
      ],
      "execution_count": null,
      "outputs": [
        {
          "output_type": "execute_result",
          "data": {
            "application/vnd.google.colaboratory.intrinsic+json": {
              "type": "string"
            },
            "text/plain": [
              "'03bf3b6417d0ab32e3cd373d4a6b916247d02e8fea2515fe77f20fbe8f3d30187a'"
            ]
          },
          "metadata": {
            "tags": []
          },
          "execution_count": 144
        }
      ]
    },
    {
      "cell_type": "markdown",
      "metadata": {
        "id": "opVmEOOYK7Pp"
      },
      "source": [
        "Générer une clé enfant"
      ]
    },
    {
      "cell_type": "code",
      "metadata": {
        "colab": {
          "base_uri": "https://localhost:8080/"
        },
        "id": "mpXjt08PZzGt",
        "outputId": "a394561d-13f0-483d-e0be-0116b858a5fb"
      },
      "source": [
        "import hmac\r\n",
        "\r\n",
        "def genererCleEnfant(index=0):\r\n",
        "  orderOfCurve = 115792089237316195423570985008687907852837564279074904382605163141518161494337 # ordre de la courbe connu\r\n",
        "\r\n",
        "  data = master_publicKey + str(index)\r\n",
        "  key = chainCode\r\n",
        "\r\n",
        "  ckd = hmac.new(bytes.fromhex(key), data.encode('utf-8'), hashlib.sha512).hexdigest()\r\n",
        "\r\n",
        "  newChainCode = ckd[64:]\r\n",
        "\r\n",
        "  childPrivateKey = int(ckd[:64] + master_publicKey, 16) % orderOfCurve\r\n",
        "  childPrivateKey = hex(childPrivateKey)[2:]\r\n",
        "\r\n",
        "  return newChainCode, childPrivateKey\r\n",
        "\r\n",
        "childChainCode, childPrivateKey = genererCleEnfant()\r\n",
        "\r\n",
        "print('child ChainCode :', childChainCode)\r\n",
        "print('child Private Key :', childPrivateKey)\r\n",
        "print('child Public Key :', getPublicKey(childPrivateKey))"
      ],
      "execution_count": null,
      "outputs": [
        {
          "output_type": "stream",
          "text": [
            "child ChainCode : 41c489ea70f6fad72184e698faf7e8749c8b66d22179f2b26d05e4acdb003c55\n",
            "child Private Key : 910c30f1821249346de6085201ed1a809607ad71dbccbaf716f1ad4ece47867b\n",
            "child Public Key : 022de8f5558b17221339ea17e97aa0206d43c4d7ab7895f70fa49c7952cec1835d\n"
          ],
          "name": "stdout"
        }
      ]
    },
    {
      "cell_type": "markdown",
      "metadata": {
        "id": "Egv53uxEbYab"
      },
      "source": [
        "Génerer une clé enfant à partir d'un indice N\r\n"
      ]
    },
    {
      "cell_type": "code",
      "metadata": {
        "colab": {
          "base_uri": "https://localhost:8080/"
        },
        "id": "IbTKa-pYbVIL",
        "outputId": "39401138-ae23-4453-fa2e-504d172e1207"
      },
      "source": [
        "i = input('Veuillez entrer l\\'indice de générationde la clé enfant (entre 0 et 2147483647)')\r\n",
        "\r\n",
        "childChainCode, childPrivateKey = genererCleEnfant(i)\r\n",
        "print('Génération d\\'une clé enfant à l\\'indice', i)\r\n",
        "print('child ChainCode :', childChainCode)\r\n",
        "print('child Private Key :', childPrivateKey)\r\n",
        "print('child Public Key :', getPublicKey(childPrivateKey))"
      ],
      "execution_count": null,
      "outputs": [
        {
          "output_type": "stream",
          "text": [
            "Veuillez entrer l'indice de générationde la clé enfant (entre 0 et 2147483647)8\n",
            "Génération d'une clé enfant à l'indice 8\n",
            "child ChainCode : 4513a1de852004f46ce072fcbfba370a42cc345d7f99ec4937880f878cabf50b\n",
            "child Private Key : 4965b9e80616069e07f99e9dff7b08d579f54f5a9262d755d8da818a92606601\n",
            "child Public Key : 02e03a74315b1ceae82f810c2744def6a846d804e5897c5df95c26a5bc97fc18ff\n"
          ],
          "name": "stdout"
        }
      ]
    },
    {
      "cell_type": "markdown",
      "metadata": {
        "id": "YtpDXtKKdlNV"
      },
      "source": [
        "# Générer un enfant à l'index N à la dérication M avec l'aide de la librairie bip32.py"
      ]
    },
    {
      "cell_type": "code",
      "metadata": {
        "colab": {
          "base_uri": "https://localhost:8080/"
        },
        "id": "jNJwseB6c7gc",
        "outputId": "ebac05d7-25c7-4da7-82ec-2908aad78103"
      },
      "source": [
        "!pip install bip32\r\n",
        "from bip32 import BIP32, HARDENED_INDEX\r\n",
        "bip32seed = BIP32.from_seed(bytes.fromhex(hexSeed))"
      ],
      "execution_count": null,
      "outputs": [
        {
          "output_type": "stream",
          "text": [
            "Collecting bip32\n",
            "  Downloading https://files.pythonhosted.org/packages/e2/4e/dd25f9f57985dc7b172d9b7999ad8e6a0e58847f116173b149dd123e8ef4/bip32-0.0.8-py3-none-any.whl\n",
            "Collecting base58==2.0.0\n",
            "  Downloading https://files.pythonhosted.org/packages/ac/03/52b4d529a1ba2f006be395a1b9ff6e1ab83875b84e1dc67343362edaff05/base58-2.0.0-py3-none-any.whl\n",
            "Collecting coincurve==13.0.0\n",
            "\u001b[?25l  Downloading https://files.pythonhosted.org/packages/41/ce/f021c51dfe5d1fa9e0c2864f87c92505322eafd33fe2db6f3d04a5a3e6a7/coincurve-13.0.0-cp36-cp36m-manylinux2010_x86_64.whl (517kB)\n",
            "\u001b[K     |████████████████████████████████| 522kB 7.2MB/s \n",
            "\u001b[?25hCollecting asn1crypto\n",
            "\u001b[?25l  Downloading https://files.pythonhosted.org/packages/b5/a8/56be92dcd4a5bf1998705a9b4028249fe7c9a035b955fe93b6a3e5b829f8/asn1crypto-1.4.0-py2.py3-none-any.whl (104kB)\n",
            "\u001b[K     |████████████████████████████████| 112kB 18.3MB/s \n",
            "\u001b[?25hRequirement already satisfied: cffi>=1.3.0 in /usr/local/lib/python3.6/dist-packages (from coincurve==13.0.0->bip32) (1.14.4)\n",
            "Requirement already satisfied: pycparser in /usr/local/lib/python3.6/dist-packages (from cffi>=1.3.0->coincurve==13.0.0->bip32) (2.20)\n",
            "Installing collected packages: base58, asn1crypto, coincurve, bip32\n",
            "Successfully installed asn1crypto-1.4.0 base58-2.0.0 bip32-0.0.8 coincurve-13.0.0\n"
          ],
          "name": "stdout"
        }
      ]
    },
    {
      "cell_type": "code",
      "metadata": {
        "colab": {
          "base_uri": "https://localhost:8080/"
        },
        "id": "86B1nIe1dkvv",
        "outputId": "9c90111e-5104-4768-b0fd-dc9a1082c8d3"
      },
      "source": [
        "N = input('Index N: ')\r\n",
        "M = input('Dérication M: ')\r\n",
        "\r\n",
        "pubKey = bip32seed.get_extended_pubkey_from_path(\"m/\"+M+\"/\"+N)\r\n",
        "\r\n",
        "print('Public Key of '+N+' child at derivation '+M+' : '+str(pubKey[1].hex()))\r\n",
        "\r\n",
        "privKey = bip32seed.get_extended_privkey_from_path(\"m/\"+M+\"/\"+N)\r\n",
        "\r\n",
        "print('Private Key of '+N+' child at derivation '+M+' : '+str(privKey[1].hex()))"
      ],
      "execution_count": null,
      "outputs": [
        {
          "output_type": "stream",
          "text": [
            "Index N: 5\n",
            "Dérication M: 3\n",
            "Public Key of 5 child at derivation 3 : 0207c09b1d26a0f2229b65fae4b3c4b0629db7f978753bd3cede05b0a7b97c2ef0\n",
            "Private Key of 5 child at derivation 3 : f8f3ab15ddd5cb2528e55fadd3750514ac614cc4e5d7fe9e92c49166954828d8\n"
          ],
          "name": "stdout"
        }
      ]
    }
  ]
}